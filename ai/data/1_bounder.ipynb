{
 "cells": [
  {
   "attachments": {},
   "cell_type": "markdown",
   "metadata": {},
   "source": [
    "# 이미지의 바운딩 박스를 gui로 쉽게 그리자 아하"
   ]
  },
  {
   "attachments": {},
   "cell_type": "markdown",
   "metadata": {},
   "source": [
    "## 바운딩할 꽃 종류를 정하자"
   ]
  },
  {
   "cell_type": "code",
   "execution_count": 1,
   "metadata": {},
   "outputs": [],
   "source": [
    "import os\n",
    "import cv2\n",
    "import numpy as np\n",
    "import shutil"
   ]
  },
  {
   "cell_type": "code",
   "execution_count": 3,
   "metadata": {},
   "outputs": [],
   "source": [
    "flower_label = {\n",
    "                'buquet' : 0,\n",
    "                'rose' : 0,             # 장미\n",
    "                'empty1' : 1,\n",
    "                'tulip' : 2,            # 튤립\n",
    "                'carnation' : 3,\n",
    "                'empty2' : 4,        # 카네이션\n",
    "                'lily' : 5,             # 백합\n",
    "                'lisianthus' : 6,       # 리시안셔스\n",
    "                'small_chrysanthemum' : 7,    # 소국\n",
    "                'pompom_blooms' : 8,    # 퐁퐁국화\n",
    "                'sunflower': 9,         # 해바라기\n",
    "                'gerbera' : 10,          # 거베라\n",
    "                'alstroemeria' : 11,     # 알스트로메리아\n",
    "                'hydrangea' : 12,       # 수국\n",
    "                'peony' : 13,           # 작약\n",
    "                'stock' : 14,           # 스톡\n",
    "                'freesia' : 15,         # 프리지아\n",
    "                'ranunculus' : 16,      # 라넌큘러스\n",
    "                'empty3' : 17,\n",
    "                'butterfly':18,  # 라넌큘러스 버터플라이\n",
    "                'cala': 19,               # 칼라 꽃\n",
    "                'snapdragon' : 20,        # 금어초\n",
    "                }\n",
    "\n",
    "flower_name_list = [i[0] for i in sorted([[k,v] for k,v in flower_label.items()], key=lambda x: x[1])]\n",
    "\n",
    "flower = 'freesia'\n",
    "\n",
    "f_num = flower_label[flower]\n",
    "\n",
    "path = f'./0_flower_data/{flower}'"
   ]
  },
  {
   "cell_type": "code",
   "execution_count": 4,
   "metadata": {},
   "outputs": [
    {
     "ename": "FileNotFoundError",
     "evalue": "[WinError 3] 지정된 경로를 찾을 수 없습니다: './0_flower_data/freesia'",
     "output_type": "error",
     "traceback": [
      "\u001b[1;31m---------------------------------------------------------------------------\u001b[0m",
      "\u001b[1;31mFileNotFoundError\u001b[0m                         Traceback (most recent call last)",
      "Cell \u001b[1;32mIn[4], line 55\u001b[0m\n\u001b[0;32m     52\u001b[0m     cv2\u001b[39m.\u001b[39mputText(image, text, position, font, font_scale, font_color, line_type)\n\u001b[0;32m     54\u001b[0m break_plag \u001b[39m=\u001b[39m \u001b[39mFalse\u001b[39;00m\n\u001b[1;32m---> 55\u001b[0m flower_list \u001b[39m=\u001b[39m os\u001b[39m.\u001b[39;49mlistdir(path)\n\u001b[0;32m     57\u001b[0m \u001b[39mif\u001b[39;00m \u001b[39mnot\u001b[39;00m os\u001b[39m.\u001b[39mpath\u001b[39m.\u001b[39misdir(\u001b[39mf\u001b[39m\u001b[39m'\u001b[39m\u001b[39m./1_labels_data/\u001b[39m\u001b[39m{\u001b[39;00mflower\u001b[39m}\u001b[39;00m\u001b[39m'\u001b[39m):\n\u001b[0;32m     58\u001b[0m     os\u001b[39m.\u001b[39mmkdir(\u001b[39mf\u001b[39m\u001b[39m'\u001b[39m\u001b[39m./1_labels_data/\u001b[39m\u001b[39m{\u001b[39;00mflower\u001b[39m}\u001b[39;00m\u001b[39m'\u001b[39m)\n",
      "\u001b[1;31mFileNotFoundError\u001b[0m: [WinError 3] 지정된 경로를 찾을 수 없습니다: './0_flower_data/freesia'"
     ]
    }
   ],
   "source": [
    "# 마우스 이벤트 콜백 함수\n",
    "def mouse_callback(event, x, y, flags, param):\n",
    "    global point1, point2, cnt, img, coordi, f_label_name, f_num\n",
    "    if event == cv2.EVENT_LBUTTONDOWN:\n",
    "        if cnt%2:\n",
    "            img_copy = img.copy()\n",
    "            point1 = (x, y)\n",
    "            cv2.line(img_copy, (x, y), (x, img.shape[0]), (0, 255, 0), 5)\n",
    "            cv2.line(img_copy, (x, y), (img.shape[1], y), (0, 255, 0), 5)\n",
    "            update_text(img_copy, f_label_name)\n",
    "            \n",
    "            cv2.imshow(f'{f_name} {width} * {height}', img_copy)\n",
    "        else:\n",
    "            px, py = point1\n",
    "            point2 = (x, y)\n",
    "            \n",
    "            cv2.line(img, (px, py), (px, y), (0, 255, 0), 5)\n",
    "            cv2.line(img, (px, py), (x, py), (0, 255, 0), 5)\n",
    "            cv2.line(img, (x, y), (px, y), (0, 255, 0), 5)\n",
    "            cv2.line(img, (x, y), (x, py), (0, 255, 0), 5)\n",
    "            \n",
    "            img_copy = img.copy()\n",
    "            update_text(img_copy, f_label_name)\n",
    "            \n",
    "            cv2.imshow(f'{f_name} {width} * {height}', img_copy)\n",
    "            \n",
    "            \n",
    "            if point1 and point2:\n",
    "                # 좌측상단 좌표와 우측하단 좌표로 변환\n",
    "                x1, y1 = min(point1[0], point2[0]), min(point1[1], point2[1])\n",
    "                x2, y2 = max(point1[0], point2[0]), max(point1[1], point2[1])\n",
    "                \n",
    "                # yolo의 바운딩박스 수치로 변환\n",
    "                x = round((x1+(x2-x1)/2)/img.shape[1], 4)\n",
    "                y = round((y1+(y2-y1)/2)/img.shape[0], 4)\n",
    "                w = round((x2-x1)/img.shape[1], 4)\n",
    "                h = round((y2-y1)/img.shape[0], 4)\n",
    "                \n",
    "                coordi += f\"{f_num} {x} {y} {w} {h}\\n\"\n",
    "                # 좌표 저장\n",
    "            \n",
    "        cnt += 1\n",
    "\n",
    "def update_text(image, f_label_name):\n",
    "    font = cv2.FONT_HERSHEY_SIMPLEX\n",
    "    x, y = image.shape[:2]\n",
    "    font_scale = (x+y)//1000\n",
    "    font_color = (255, 125, 60)\n",
    "    line_type = (x+y)//600\n",
    "    position = [x//10,y//10]\n",
    "    text = f'{f_label_name} : {flower_label[f_label_name]}'\n",
    "    cv2.putText(image, text, position, font, font_scale, font_color, line_type)\n",
    "\n",
    "break_plag = False\n",
    "flower_list = os.listdir(path)\n",
    "\n",
    "if not os.path.isdir(f'./1_labels_data/{flower}'):\n",
    "    os.mkdir(f'./1_labels_data/{flower}')\n",
    "\n",
    "f_idx = 0\n",
    "\n",
    "while 1:\n",
    "\n",
    "    f_name = flower_list[f_idx]\n",
    "    f_num = flower_label[flower]\n",
    "    \n",
    "    f_name_idx = flower_name_list.index(flower)\n",
    "    f_label_name = flower\n",
    "    \n",
    "    if break_plag:\n",
    "        break\n",
    "    \n",
    "    # 이미지 파일 경로\n",
    "    img_path = f'./0_flower_data/{flower}/{f_name}'\n",
    "\n",
    "    # 이미지 로드 및 윈도우 생성\n",
    "    img = cv2.imread(img_path)\n",
    "    \n",
    "    if type(img) != np.ndarray:\n",
    "        os.remove(f'./0_flower_data/{flower}/{f_name}')\n",
    "        continue\n",
    "    \n",
    "    height, width = img.shape[:2]\n",
    "    \n",
    "    if height > width:\n",
    "        new_height = 640\n",
    "        new_width = int(width * (new_height / height))\n",
    "    else:\n",
    "        new_width = 640\n",
    "        new_height = int(height * (new_width / width))\n",
    "    \n",
    "    cv2.namedWindow(f'{f_name} {width} * {height}', cv2.WINDOW_NORMAL)\n",
    "    cv2.resizeWindow(f'{f_name} {width} * {height}', (new_width, new_height))\n",
    "    cv2.setMouseCallback(f'{f_name} {width} * {height}', mouse_callback)\n",
    "    \n",
    "    img_copy = img.copy()\n",
    "    update_text(img_copy, f_label_name)\n",
    "    \n",
    "    cv2.imshow(f'{f_name} {width} * {height}', img_copy)\n",
    "\n",
    "    # 마우스 이벤트를 통한 좌표 저장\n",
    "    point1, point2, coordi, cnt = None, None, '', 1\n",
    "     \n",
    "    while True:\n",
    "        key = cv2.waitKey(1) & 0xFF\n",
    "        \n",
    "        # 좌표를 txt 파일로 저장하고 다음으로 넘어가기\n",
    "        # 만약 좌표를 그리지 않았다면 저장하지 않고 그냥 넘어가기\n",
    "        if key == ord(\"q\"):\n",
    "            f_idx += 1\n",
    "            if coordi == '':\n",
    "                break\n",
    "            \n",
    "            with open(f\"./1_labels_data/{flower}/{f_name[:-4]}.txt\", \"a\") as f:\n",
    "                f.write(coordi)\n",
    "            break\n",
    "        \n",
    "        # 다음 꽃 바운딩\n",
    "        elif key == ord('e'):\n",
    "            cnt = 1\n",
    "\n",
    "            f_name_idx = f_name_idx+1 if len(flower_name_list)-1 > f_name_idx else 0\n",
    "            f_label_name = flower_name_list[f_name_idx]\n",
    "            f_num = flower_label.get(f_label_name)\n",
    "\n",
    "            img_copy = img.copy()\n",
    "            update_text(img_copy, f_label_name)\n",
    "            \n",
    "            cv2.imshow(f'{f_name} {width} * {height}', img_copy)\n",
    "            \n",
    "        # 이전 꽃 바운딩\n",
    "        elif key == ord('w'):\n",
    "            cnt = 1\n",
    "\n",
    "            f_name_idx = f_name_idx-1 if 0 < f_name_idx else len(flower_name_list)-1\n",
    "            f_label_name = flower_name_list[f_name_idx]\n",
    "            f_num = flower_label.get(f_label_name)\n",
    "            \n",
    "            img_copy = img.copy()\n",
    "            update_text(img_copy, f_label_name)\n",
    "            \n",
    "            cv2.imshow(f'{f_name} {width} * {height}', img_copy)\n",
    "            \n",
    "        # # 다음 세부 클래스 바운딩\n",
    "        # elif key == ord('d'):\n",
    "        #     cnt = 1\n",
    "        #     form_len = len(flower_label.get(flower_name_list[f_name_idx]))\n",
    "        #     f_form = f_form+1 if f_form < form_len-1 else 0\n",
    "\n",
    "        #     img_copy = img.copy()\n",
    "        #     update_text(img_copy, f_label_name, f_form)\n",
    "            \n",
    "        #     cv2.imshow(f'{f_name} {width} * {height}', img_copy)\n",
    "        \n",
    "        # 저장하지 않은 좌표들을 지우고, 다시 그리기\n",
    "        elif key == ord('c'):\n",
    "            cnt = 1\n",
    "            img = cv2.imread(img_path)\n",
    "            img_copy = img.copy()\n",
    "            update_text(img_copy, f_label_name)\n",
    "            coordi = ''\n",
    "            cv2.imshow(f'{f_name} {width} * {height}', img_copy)\n",
    "            \n",
    "        elif key == ord('m'):\n",
    "            cnt = 1\n",
    "            with open(f\"./1_labels_data/{flower}/{f_name[:-4]}.txt\", \"w\") as f:\n",
    "                f.write('')\n",
    "        \n",
    "        # 볼 것도 없다. 데이터셋에서 그냥 삭제\n",
    "        elif key == ord('f'):\n",
    "            os.remove(f'./0_flower_data/{flower}/{f_name}')\n",
    "            flower_list = os.listdir(f'./0_flower_data/{flower}')\n",
    "            break\n",
    "\n",
    "        # 지나쳐버렸다... 앞으로 돌아가기\n",
    "        elif key == ord('z'):\n",
    "            if f_idx > 0:\n",
    "                f_idx -= 1\n",
    "                break\n",
    "            elif f_idx == 0:\n",
    "                pass\n",
    "        \n",
    "        # 여기서 끝내기!\n",
    "        elif key == ord('p'):\n",
    "            break_plag = True\n",
    "            break\n",
    "\n",
    "    # 윈도우 종료 및 리소스 해제q\n",
    "    cv2.destroyAllWindows()"
   ]
  },
  {
   "attachments": {},
   "cell_type": "markdown",
   "metadata": {},
   "source": [
    "## 바운딩 박스 그리기가 끝난 애들을 2로 넘기자"
   ]
  },
  {
   "cell_type": "code",
   "execution_count": 16,
   "metadata": {},
   "outputs": [],
   "source": [
    "import shutil\n",
    "\n",
    "bounding_txt = {i[:-4]:True for i in os.listdir(f'./1_labels_data/{flower}')}\n",
    "img_list = [i[:-4] for i in os.listdir(f'./0_flower_data/{flower}')]\n",
    "\n",
    "if not os.path.isdir(f'./2_learning_img/{flower}'):\n",
    "    os.mkdir(f'./2_learning_img/{flower}')\n",
    "\n",
    "for i in img_list:\n",
    "    if bounding_txt.get(i):\n",
    "        shutil.copy(f'./0_flower_data/{flower}/{i}.jpg', f'./2_learning_img/{flower}/{i}.jpg')"
   ]
  },
  {
   "cell_type": "markdown",
   "metadata": {},
   "source": [
    "### 3의 이전 파일들 삭제하기"
   ]
  },
  {
   "cell_type": "code",
   "execution_count": 17,
   "metadata": {},
   "outputs": [],
   "source": [
    "for C in ['train', 'test']:\n",
    "    for L in ['labels', 'images']:\n",
    "        for i in os.listdir(f'./3_one_time_data/{C}/{L}'):\n",
    "            os.remove(f'./3_one_time_data/{C}/{L}/{i}')\n",
    "    \n",
    "    if os.path.isfile(f'./3_one_time_data/{C}/labels.cache'):\n",
    "        os.remove(f'./3_one_time_data/{C}/labels.cache')"
   ]
  },
  {
   "attachments": {},
   "cell_type": "markdown",
   "metadata": {},
   "source": [
    "## 2의 이미지와 1의 라벨들을 3으로 나눠 보내자"
   ]
  },
  {
   "cell_type": "code",
   "execution_count": 18,
   "metadata": {},
   "outputs": [],
   "source": [
    "import random\n",
    "\n",
    "bounding_txt = os.listdir(f'./1_labels_data/{flower}')\n",
    "img_list = os.listdir(f'./2_learning_img/{flower}')\n",
    "\n",
    "random_list = random.sample([i for i in range(len(img_list))], len(img_list)//10*2)\n",
    "\n",
    "for i in range(len(img_list)):\n",
    "    CLS = 'train'\n",
    "    img = img_list[i]\n",
    "    label = img[:-4]+'.txt'\n",
    "    \n",
    "    if i in random_list:\n",
    "        CLS = 'test'\n",
    "    \n",
    "    shutil.move(f'./2_learning_img/{flower}/{img}', f'./3_one_time_data/{CLS}/images/{img}', )\n",
    "    shutil.move(f'./1_labels_data/{flower}/{label}', f'./3_one_time_data/{CLS}/labels/{label}')"
   ]
  },
  {
   "attachments": {},
   "cell_type": "markdown",
   "metadata": {},
   "source": [
    "# 1차 학습 시작"
   ]
  },
  {
   "attachments": {},
   "cell_type": "markdown",
   "metadata": {},
   "source": [
    "python train.py --img 640 --rect --batch 16 --epochs 100 --weight yolov5m.pt --cfg one_yolov5m.yaml --data one_data.yaml --name buquet"
   ]
  },
  {
   "attachments": {},
   "cell_type": "markdown",
   "metadata": {},
   "source": [
    "# 이 아래는 파일 관리"
   ]
  },
  {
   "attachments": {},
   "cell_type": "markdown",
   "metadata": {},
   "source": [
    "### 3의 파일을 돌리는 코드"
   ]
  },
  {
   "cell_type": "code",
   "execution_count": 3,
   "metadata": {},
   "outputs": [],
   "source": [
    "for C in ['train', 'test']:\n",
    "    for L in ['labels', 'images']:\n",
    "        for i in os.listdir(f'./3_one_time_data/{C}/{L}'):\n",
    "            if L == 'images':\n",
    "                shutil.move(f'./3_one_time_data/{C}/{L}/{i}', f'./2_learning_img/{flower}/{i}')\n",
    "            else:\n",
    "                shutil.move(f'./3_one_time_data/{C}/{L}/{i}', f'./1_labels_data/{flower}/{i}')\n",
    "    \n",
    "    if os.path.isfile(f'./3_one_time_data/{C}/labels.cache'):\n",
    "        os.remove(f'./3_one_time_data/{C}/labels.cache')"
   ]
  },
  {
   "attachments": {},
   "cell_type": "markdown",
   "metadata": {},
   "source": [
    "### 자리 밀렸을 때, 인덱스 미루기"
   ]
  },
  {
   "cell_type": "code",
   "execution_count": 7,
   "metadata": {},
   "outputs": [],
   "source": [
    "for C in ['train', 'test']:\n",
    "    for L in os.listdir(f'./5_total_data/{C}/labels/'):\n",
    "        if L[0:2] =='al':\n",
    "            with open(f'./5_total_data/{C}/labels/{L}', 'r') as f:\n",
    "                x = ''\n",
    "                for i in f.readlines():\n",
    "                    x += '11' + i[2:]\n",
    "            \n",
    "            with open(f'./5_total_data/{C}/labels/{L}', 'w') as f:\n",
    "                f.write(x)"
   ]
  },
  {
   "attachments": {},
   "cell_type": "markdown",
   "metadata": {},
   "source": [
    "### 5의 특정 파일을 3으로 복사"
   ]
  },
  {
   "cell_type": "code",
   "execution_count": null,
   "metadata": {},
   "outputs": [],
   "source": [
    "F = ''\n",
    "\n",
    "for CLS in ['train', 'test']:\n",
    "    \n",
    "    for i in os.listdir(f'./5_total_data/{CLS}/images')"
   ]
  }
 ],
 "metadata": {
  "kernelspec": {
   "display_name": "flower",
   "language": "python",
   "name": "python3"
  },
  "language_info": {
   "codemirror_mode": {
    "name": "ipython",
    "version": 3
   },
   "file_extension": ".py",
   "mimetype": "text/x-python",
   "name": "python",
   "nbconvert_exporter": "python",
   "pygments_lexer": "ipython3",
   "version": "3.11.2"
  },
  "orig_nbformat": 4
 },
 "nbformat": 4,
 "nbformat_minor": 2
}
