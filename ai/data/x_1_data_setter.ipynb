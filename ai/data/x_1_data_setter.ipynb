{
 "cells": [
  {
   "cell_type": "code",
   "execution_count": 1,
   "metadata": {},
   "outputs": [],
   "source": [
    "import cv2\n",
    "import numpy as np\n",
    "import pandas as pd\n",
    "import os\n",
    "import shutil\n",
    "import random\n",
    "import torch\n",
    "import requests\n",
    "from bs4 import BeautifulSoup\n",
    "from PIL import Image"
   ]
  },
  {
   "attachments": {},
   "cell_type": "markdown",
   "metadata": {},
   "source": [
    "git clone https://github.com/ultralytics/yolov5.git"
   ]
  },
  {
   "attachments": {},
   "cell_type": "markdown",
   "metadata": {},
   "source": [
    "## 데이터 스크래핑"
   ]
  },
  {
   "cell_type": "code",
   "execution_count": 47,
   "metadata": {},
   "outputs": [],
   "source": [
    "query = 'pink rose'\n",
    "\n",
    "header = {\n",
    "    'User-Agent': 'Mozilla/5.0 (Windows NT 10.0; Win64; x64) AppleWebKit/537.36 (KHTML, like Gecko) Chrome/58.0.3029.110 Safari/537.3'\n",
    "}\n",
    "\n",
    "url = f'https://www.google.com/search?q={query}&tbm=isch'\n",
    "\n",
    "req = requests.get(headers=header, url=url)"
   ]
  },
  {
   "cell_type": "code",
   "execution_count": 48,
   "metadata": {},
   "outputs": [],
   "source": [
    "soup = BeautifulSoup(req.text, 'html.parser')\n",
    "\n",
    "i = int(os.listdir('./0_scrapping_img')[-1][-8:-4])+1 if os.listdir('./0_scrapping_img') else 0\n",
    "\n",
    "for img in soup.find_all(attrs={'jsname' : 'Q4LuWd'}):\n",
    "    try:\n",
    "        if img.get('data-src'):\n",
    "            img_url = img.get('data-src') \n",
    "        else:\n",
    "            continue\n",
    "        response = requests.get(img_url)\n",
    "        fn = str(i).rjust(4,'0')\n",
    "        with open(f'./0_scrapping_img/rose_{fn}.jpg', 'wb') as f:\n",
    "            f.write(response.content)\n",
    "        i += 1\n",
    "    except:\n",
    "        print('error')"
   ]
  },
  {
   "attachments": {},
   "cell_type": "markdown",
   "metadata": {},
   "source": [
    "### scrapping_img 파일 idx 정리"
   ]
  },
  {
   "cell_type": "code",
   "execution_count": 49,
   "metadata": {},
   "outputs": [],
   "source": [
    "f_list = os.listdir('./0_scrapping_img/')\n",
    "\n",
    "i = 0\n",
    "for f in f_list:\n",
    "    num = str(i).rjust(4, '0')\n",
    "    os.rename(f'./0_scrapping_img/{f}', f'./0_scrapping_img/{f[:-8]}{num}.jpg')\n",
    "    i += 1"
   ]
  },
  {
   "attachments": {},
   "cell_type": "markdown",
   "metadata": {},
   "source": [
    "## hsv로 바운딩박스 생성"
   ]
  },
  {
   "attachments": {},
   "cell_type": "markdown",
   "metadata": {},
   "source": [
    "### 색깔 정의"
   ]
  },
  {
   "cell_type": "code",
   "execution_count": 15,
   "metadata": {},
   "outputs": [],
   "source": [
    "# HSV 색깔 정의표\n",
    "\n",
    "# 빨간색\n",
    "# 빨간색의 색상 범위 정의 (1)\n",
    "lower_red1 = np.array([0, 100, 100])\n",
    "upper_red1 = np.array([10, 255, 255])\n",
    "\n",
    "# 빨간색의 색상 범위 정의 (2)\n",
    "lower_red2 = np.array([170, 100, 100])\n",
    "upper_red2 = np.array([180, 255, 255])\n",
    "\n",
    "# 노란색\n",
    "lower_yellow = np.array([15, 100, 100])\n",
    "upper_yellow = np.array([35, 255, 255])\n",
    "\n",
    "# 보라색\n",
    "lower_pupple = np.array([130, 100, 100])\n",
    "upper_pupple = np.array([160, 255, 255])\n",
    "\n",
    "# 파란색\n",
    "lower_blue = np.array([130, 100, 100])\n",
    "upper_blue = np.array([160, 255, 255])\n",
    "\n",
    "# 주황색\n",
    "lower_orange = np.array([10, 100, 100])\n",
    "upper_orange = np.array([20, 255, 255])\n",
    "\n",
    "# 흰색 - 연분홍\n",
    "lower_ypink = np.array([0, 0, 175])\n",
    "upper_ypink = np.array([180, 120, 255])\n",
    "\n",
    "# 분홍\n",
    "lower_pink = np.array([150, 50, 50])\n",
    "upper_pink = np.array([170, 255, 255])\n",
    "\n",
    "def get_mask(hsv, color):\n",
    "    if color == 'red':\n",
    "        mask1 = cv2.inRange(hsv, lower_red1, upper_red1)\n",
    "        mask2 = cv2.inRange(hsv, lower_red2, upper_red2)\n",
    "        mask = cv2.add(mask1, mask2)\n",
    "\n",
    "    elif color == 'pupple':\n",
    "        mask = cv2.inRange(hsv, lower_pupple, upper_pupple)\n",
    "    \n",
    "    elif color == 'yellow':\n",
    "        mask = cv2.inRange(hsv, lower_yellow, upper_yellow)\n",
    "    \n",
    "    elif color == 'blue':\n",
    "        mask = cv2.inRange(hsv, lower_blue, upper_blue)\n",
    "        \n",
    "    elif color == 'orange':\n",
    "        mask = cv2.inRange(hsv, lower_orange, upper_orange)\n",
    "    \n",
    "    elif color == 'pink':\n",
    "        mask = cv2.inRange(hsv, lower_pink, upper_pink)\n",
    "    \n",
    "    elif color == 'ypink':\n",
    "        mask = cv2.inRange(hsv, lower_ypink, upper_ypink)\n",
    "        \n",
    "    else:\n",
    "        raise Exception('색깔을 정확히 입력해주렴')\n",
    "    \n",
    "    return mask"
   ]
  },
  {
   "attachments": {},
   "cell_type": "markdown",
   "metadata": {},
   "source": [
    "### 분류할 색상 정의"
   ]
  },
  {
   "cell_type": "code",
   "execution_count": 79,
   "metadata": {},
   "outputs": [],
   "source": [
    "color = 'pink'"
   ]
  },
  {
   "attachments": {},
   "cell_type": "markdown",
   "metadata": {},
   "source": [
    "### 색상 바운딩"
   ]
  },
  {
   "cell_type": "code",
   "execution_count": 80,
   "metadata": {},
   "outputs": [],
   "source": [
    "img_list = os.listdir(f'./0_scrapping_img')\n",
    "\n",
    "for f_name in img_list[815:]:\n",
    "    # 이미지 로드\n",
    "    img = cv2.imread(f'./0_scrapping_img/{f_name}')\n",
    "\n",
    "    # 이미지를 HSV 색 공간으로 변환\n",
    "    hsv = cv2.cvtColor(img, cv2.COLOR_BGR2HSV)\n",
    "\n",
    "    mask = get_mask(hsv, color)\n",
    "        \n",
    "    # 블러 처리\n",
    "    mask = cv2.GaussianBlur(mask, (5, 5), 0)\n",
    "\n",
    "    # 바운딩 박스 검출\n",
    "    contours, hierarchy = cv2.findContours(mask, cv2.RETR_EXTERNAL, cv2.CHAIN_APPROX_SIMPLE)\n",
    "\n",
    "    wh = 0\n",
    "    for cnt in contours:\n",
    "        # contour의 영역을 얻어 바운딩 박스 그리기\n",
    "        x, y, w, h = cv2.boundingRect(cnt)\n",
    "        if w + h > wh:\n",
    "            rx, ry, rw, rh = x,y,w,h\n",
    "            wh = w+h\n",
    "            \n",
    "    img = cv2.rectangle(img, (rx, ry), (rx + rw, ry + rh), (0, 255, 0), 4)\n",
    "    \n",
    "    cv2.imwrite(f'./1_bounding_img/{f_name}', img)\n",
    "\n",
    "    # # 결과 이미지 출력\n",
    "    # cv2.imshow('result', img)\n",
    "    # cv2.waitKey(0)\n",
    "    # cv2.destroyAllWindows()"
   ]
  },
  {
   "cell_type": "code",
   "execution_count": 66,
   "metadata": {},
   "outputs": [
    {
     "data": {
      "text/plain": [
       "'r'"
      ]
     },
     "execution_count": 66,
     "metadata": {},
     "output_type": "execute_result"
    }
   ],
   "source": []
  },
  {
   "attachments": {},
   "cell_type": "markdown",
   "metadata": {},
   "source": [
    "### 0과 1을 대조하여, 1에 있는 0의 원본파일을 2로 복사"
   ]
  },
  {
   "cell_type": "code",
   "execution_count": 81,
   "metadata": {},
   "outputs": [],
   "source": [
    "bounding_processing_img = os.listdir('./1_bounding_img')\n",
    "\n",
    "scrapping_img = os.listdir('./0_scrapping_img')\n",
    "\n",
    "for spi in scrapping_img:\n",
    "    if spi in bounding_processing_img:\n",
    "        shutil.copy(f'./0_scrapping_img/{spi}', './2_learning_img')\n",
    "\n",
    "for bpi in bounding_processing_img:\n",
    "    os.remove(f'./1_bounding_img/{bpi}')"
   ]
  },
  {
   "attachments": {},
   "cell_type": "markdown",
   "metadata": {},
   "source": [
    "### 2의 idx 리셋"
   ]
  },
  {
   "cell_type": "code",
   "execution_count": 14,
   "metadata": {},
   "outputs": [],
   "source": [
    "cnt = 0\n",
    "for f in os.listdir('./2_learning_img/'):\n",
    "    num = str(cnt).rjust(4, '0')\n",
    "    os.rename(f'./2_learning_img/{f}', f'./2_learning_img/rose_{num}.jpg')\n",
    "    cnt += 1"
   ]
  },
  {
   "attachments": {},
   "cell_type": "markdown",
   "metadata": {},
   "source": [
    "## 데이터 증강"
   ]
  },
  {
   "attachments": {},
   "cell_type": "markdown",
   "metadata": {},
   "source": [
    "### 증강 함수 정의"
   ]
  },
  {
   "cell_type": "code",
   "execution_count": 4,
   "metadata": {},
   "outputs": [],
   "source": [
    "def adjust_hue(image):\n",
    "    hue_shift = random.randint(-90, 90)\n",
    "    hsv_image = cv2.cvtColor(image, cv2.COLOR_BGR2HSV)\n",
    "    hsv_image[:,:,0] = (hsv_image[:,:,0] + hue_shift) % 180\n",
    "    return cv2.cvtColor(hsv_image, cv2.COLOR_HSV2BGR)\n",
    "\n",
    "# image = cv2.imread('image.jpg')\n",
    "# hue_adjusted_image = adjust_hue(image)\n",
    "# cv2.imwrite('hue_adjusted_image.jpg', hue_adjusted_image)"
   ]
  },
  {
   "cell_type": "code",
   "execution_count": 20,
   "metadata": {},
   "outputs": [],
   "source": [
    "image_list = os.listdir(f'./2_learning_img')\n",
    "\n",
    "color = ''\n",
    "\n",
    "test_set = {}\n",
    "for i in random.sample(image_list, len(image_list)//10 *2):\n",
    "    test_set[i] = True\n",
    "\n",
    "cnt = 0\n",
    "for f_name in image_list:\n",
    "    img = cv2.imread(f'./2_learning_img/{f_name}')\n",
    "\n",
    "    # 이미지를 HSV 색 공간으로 변환\n",
    "    hsv = cv2.cvtColor(img, cv2.COLOR_BGR2HSV)\n",
    "    \n",
    "    if cnt < 7:\n",
    "        color = 'yellow'\n",
    "    elif 7 <= cnt and cnt < 26:\n",
    "        color = 'ypink'\n",
    "    elif 26 == cnt:\n",
    "        color = 'yellow'\n",
    "    elif 27 <= cnt and cnt <374:\n",
    "        color = 'red'\n",
    "    elif 374 <= cnt and cnt < 466:\n",
    "        color = 'yellow'\n",
    "    elif 456 <= cnt and cnt < 547:\n",
    "        color = 'ypink'\n",
    "    elif 547 <= cnt and cnt < 553:\n",
    "        color = 'orange'\n",
    "    elif 553 <= cnt and cnt <= 594:\n",
    "        color = 'pink'\n",
    "\n",
    "    mask = get_mask(hsv, color)\n",
    "        \n",
    "    # 블러 처리\n",
    "    mask = cv2.GaussianBlur(mask, (5, 5), 0)\n",
    "\n",
    "    # 바운딩 박스 검출\n",
    "    contours, hierarchy = cv2.findContours(mask, cv2.RETR_EXTERNAL, cv2.CHAIN_APPROX_SIMPLE)\n",
    "\n",
    "    wh = 0\n",
    "    rx, ry, rw, rh = 0,0,0,0\n",
    "    for cnto in contours:\n",
    "        # contour의 영역을 얻어 바운딩 박스 그리기\n",
    "        x, y, w, h = cv2.boundingRect(cnto)\n",
    "        if w + h > wh:\n",
    "            rx, ry, rw, rh = x,y,w,h\n",
    "            wh = w+h\n",
    "        \n",
    "    x_center = round((rx+(rw/2)) / img.shape[1], 4)\n",
    "    y_center = round((ry+(rh/2)) / img.shape[0], 4)\n",
    "    if x_center > 1 or y_center > 1:\n",
    "        print('아직 문제가...')\n",
    "    \n",
    "    W = round(rw / img.shape[1], 4)\n",
    "    H = round(rh / img.shape[0], 4)\n",
    "    if W > 1 or H > 1:\n",
    "        print('아직 문제가 있다...')\n",
    "        \n",
    "    if test_set.get(f_name):\n",
    "        CLS = 'test'\n",
    "    else:\n",
    "        CLS = 'train'\n",
    "        \n",
    "    adjust_col_img = adjust_hue(img)\n",
    "    cv2.imwrite(f'./3_one_time_data/{CLS}/images/{f_name[:-4]}_c.jpg', adjust_col_img)\n",
    "    \n",
    "    cv2.imwrite(f'./3_one_time_data/{CLS}/images/{f_name}', img)\n",
    "    with open(f'./3_one_time_data/{CLS}/labels/{f_name[:-4]}.txt', 'w') as f:\n",
    "        f.write(f'0 {x_center} {y_center} {W} {H}')\n",
    "\n",
    "    shutil.copy(f'./3_one_time_data/{CLS}/labels/{f_name[:-4]}.txt', f'./3_one_time_data/{CLS}/labels/{f_name[:-4]}_c.txt')\n",
    "    \n",
    "    cnt += 1"
   ]
  },
  {
   "cell_type": "code",
   "execution_count": null,
   "metadata": {},
   "outputs": [],
   "source": [
    "adjust_col_img = adjust_hue(img)\n",
    "cv2.imwrite(f'./2_learning_img/{f_name[:-4]}_c.jpg', adjust_col_img)"
   ]
  },
  {
   "attachments": {},
   "cell_type": "markdown",
   "metadata": {},
   "source": [
    "## HSV 바운딩 1 클래스 학습 시작"
   ]
  },
  {
   "cell_type": "code",
   "execution_count": 12,
   "metadata": {},
   "outputs": [],
   "source": [
    "for x in ['train', 'test']:\n",
    "    \n",
    "    li = os.listdir(f'./3_one_time_data/{x}/images')\n",
    "    \n",
    "    for i in li:\n",
    "        \n",
    "        if i[-5].isdigit():\n",
    "            shutil.move(f'./3_one_time_data/{x}/images/{i}', f'./2_learning_img/{i}')"
   ]
  },
  {
   "attachments": {},
   "cell_type": "markdown",
   "metadata": {},
   "source": [
    "python train.py --img 640 batch 16 --data one_data.yaml --cfg one_yolov5m.yaml --weight yolov5m.py --name "
   ]
  },
  {
   "attachments": {},
   "cell_type": "markdown",
   "metadata": {},
   "source": [
    "## 세트 분할"
   ]
  },
  {
   "cell_type": "code",
   "execution_count": null,
   "metadata": {},
   "outputs": [],
   "source": [
    "\n",
    "image_list = os.listdir('./2_learning_img')\n",
    "\n",
    "test_set = {}\n",
    "\n",
    "for i in random.sample(image_list, len(image_list)//10 *2):\n",
    "    test_set[i] = True\n",
    "\n",
    "for f_name in image_list:\n",
    "    path = ''\n",
    "    \n",
    "    if test_set.get(f_name):\n",
    "        path = './3_one_time_data/test/images/'\n",
    "    else:\n",
    "        path = './3_one_time_data/train/images/'\n",
    "    \n",
    "    shutil.move(f'./2_learning_img/{f_name}', path+f_name)"
   ]
  }
 ],
 "metadata": {
  "kernelspec": {
   "display_name": "flower",
   "language": "python",
   "name": "python3"
  },
  "language_info": {
   "codemirror_mode": {
    "name": "ipython",
    "version": 3
   },
   "file_extension": ".py",
   "mimetype": "text/x-python",
   "name": "python",
   "nbconvert_exporter": "python",
   "pygments_lexer": "ipython3",
   "version": "3.11.2"
  },
  "orig_nbformat": 4
 },
 "nbformat": 4,
 "nbformat_minor": 2
}
